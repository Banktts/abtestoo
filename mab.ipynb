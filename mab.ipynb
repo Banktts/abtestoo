{
 "cells": [
  {
   "cell_type": "markdown",
   "metadata": {},
   "source": [
    "# A/B Testing from Scratch: Multi-armed Bandits"
   ]
  },
  {
   "cell_type": "markdown",
   "metadata": {},
   "source": [
    "Frequentist and Bayesian A/B tests require you to divide your traffic into arbitrary groups for a period of time, then perform statistical tests based on the results. This "
   ]
  },
  {
   "cell_type": "code",
   "execution_count": 350,
   "metadata": {},
   "outputs": [],
   "source": [
    "import numpy as np\n",
    "import pandas as pd\n",
    "\n",
    "#widgets\n",
    "from ipywidgets import interact, interactive, fixed, interact_manual\n",
    "import ipywidgets as widgets\n",
    "from IPython.display import display\n",
    "\n",
    "#plots\n",
    "import matplotlib.pyplot as plt\n",
    "from plotnine import *\n",
    "\n",
    "#stats\n",
    "import scipy as sp\n",
    "import statsmodels as sm"
   ]
  },
  {
   "cell_type": "code",
   "execution_count": 351,
   "metadata": {},
   "outputs": [
    {
     "data": {
      "text/plain": [
       "(100, 9)"
      ]
     },
     "execution_count": 351,
     "metadata": {},
     "output_type": "execute_result"
    }
   ],
   "source": [
    "class Arm:\n",
    "    def __init__(self, true_p):\n",
    "        self.true_p = true_p\n",
    "        self.reset()\n",
    "    def reset(self):\n",
    "        self.impressions = 0\n",
    "        self.actions = 0\n",
    "    def get_state(self):\n",
    "        return self.impressions,self.actions\n",
    "    def get_rate(self):\n",
    "        return self.actions / self.impressions if self.impressions >0 else 0.\n",
    "    def pull(self):\n",
    "        self.impressions+=1\n",
    "        res = 1 if np.random.random() < self.true_p else 0\n",
    "        self.actions+=res\n",
    "        return res\n",
    "a = Arm(0.1)\n",
    "for i in range(100): a.pull()\n",
    "a.get_state()"
   ]
  },
  {
   "cell_type": "code",
   "execution_count": 43,
   "metadata": {},
   "outputs": [],
   "source": [
    "class MusketeerEnv:\n",
    "    def __init__(self, true_ps, avg_impressions):\n",
    "        self.true_ps = true_ps\n",
    "        self.avg_impressions = avg_impressions\n",
    "        self.nb_arms = len(true_ps)\n",
    "        self.reset()\n",
    "    def reset(self):\n",
    "        self.t = -1\n",
    "        self.ds=[]\n",
    "        self.arms = [Arm(p) for p in self.true_ps]\n",
    "        return self.get_state()\n",
    "    def get_state(self):\n",
    "        return [self.arms[i].get_state() for i in range(self.nb_arms)]\n",
    "    def get_rates(self):\n",
    "        return [self.arms[i].get_rate() for i in range(self.nb_arms)]\n",
    "    def get_impressions(self):\n",
    "        return int(np.random.triangular(self.avg_impressions/2,\n",
    "                                    self.avg_impressions,\n",
    "                                    self.avg_impressions*1.5))\n",
    "    def step(self, ps):\n",
    "        self.t+=1\n",
    "        impressions = self.get_impressions()\n",
    "        for i in np.random.choice(a=self.nb_arms,size=impressions,p=ps):\n",
    "            self.arms[i].pull()\n",
    "        self.record()\n",
    "        return self.get_state()\n",
    "    def record(self):\n",
    "        d = {'t':self.t,'max_rate':0,'opt_impressions':0}\n",
    "        for i in range(self.nb_arms):\n",
    "            d[f'impressions_{i}'],d[f'actions_{i}'] = self.arms[i].get_state()\n",
    "            d[f'rate_{i}'] = self.arms[i].get_rate()\n",
    "            if d[f'rate_{i}'] > d['max_rate']: \n",
    "                d['max_rate'] = d[f'rate_{i}']\n",
    "                d['opt_impressions'] = d[f'impressions_{i}']\n",
    "        d['total_impressions'] = sum([self.arms[i].impressions for i in range(self.nb_arms)])\n",
    "        d['opt_impressions_rate'] = d['opt_impressions'] / d['total_impressions']\n",
    "        d['total_actions'] = sum([self.arms[i].actions for i in range(self.nb_arms)])\n",
    "        d['total_rate'] = d['total_actions'] / d['total_impressions']\n",
    "        d['regret_rate'] = d['max_rate'] - d['total_rate']\n",
    "        d['regret'] = d['regret_rate'] * d['total_impressions']\n",
    "        self.ds.append(d)\n",
    "    def show_df(self):\n",
    "        df = pd.DataFrame(self.ds)\n",
    "        cols = ['t'] + [f'rate_{i}' for i in range(self.nb_arms)]+ \\\n",
    "               [f'impressions_{i}' for i in range(self.nb_arms)]+ \\\n",
    "               [f'actions_{i}' for i in range(self.nb_arms)]+ \\\n",
    "               ['total_impressions','total_actions','total_rate']+ \\\n",
    "               ['opt_impressions','opt_impressions_rate']+ \\\n",
    "               ['regret_rate','regret']\n",
    "        df = df[cols]\n",
    "        return df"
   ]
  },
  {
   "cell_type": "code",
   "execution_count": 356,
   "metadata": {},
   "outputs": [
    {
     "data": {
      "text/plain": [
       "[0.09985756280874018, 0.12183649265282329, 0.1307769827673083]"
      ]
     },
     "execution_count": 356,
     "metadata": {},
     "output_type": "execute_result"
    }
   ],
   "source": [
    "env = MusketeerEnv(true_ps = [0.1,0.12,0.13], avg_impressions=500)\n",
    "for i in range(1000):\n",
    "    env.step([0.6,0.2,0.2])\n",
    "env.get_rates()"
   ]
  },
  {
   "cell_type": "code",
   "execution_count": 357,
   "metadata": {},
   "outputs": [
    {
     "data": {
      "text/html": [
       "<div>\n",
       "<style scoped>\n",
       "    .dataframe tbody tr th:only-of-type {\n",
       "        vertical-align: middle;\n",
       "    }\n",
       "\n",
       "    .dataframe tbody tr th {\n",
       "        vertical-align: top;\n",
       "    }\n",
       "\n",
       "    .dataframe thead th {\n",
       "        text-align: right;\n",
       "    }\n",
       "</style>\n",
       "<table border=\"1\" class=\"dataframe\">\n",
       "  <thead>\n",
       "    <tr style=\"text-align: right;\">\n",
       "      <th></th>\n",
       "      <th>t</th>\n",
       "      <th>rate_0</th>\n",
       "      <th>rate_1</th>\n",
       "      <th>rate_2</th>\n",
       "      <th>impressions_0</th>\n",
       "      <th>impressions_1</th>\n",
       "      <th>impressions_2</th>\n",
       "      <th>actions_0</th>\n",
       "      <th>actions_1</th>\n",
       "      <th>actions_2</th>\n",
       "      <th>total_impressions</th>\n",
       "      <th>total_actions</th>\n",
       "      <th>total_rate</th>\n",
       "      <th>opt_impressions</th>\n",
       "      <th>opt_impressions_rate</th>\n",
       "      <th>regret_rate</th>\n",
       "      <th>regret</th>\n",
       "    </tr>\n",
       "  </thead>\n",
       "  <tbody>\n",
       "    <tr>\n",
       "      <th>0</th>\n",
       "      <td>0</td>\n",
       "      <td>0.124590</td>\n",
       "      <td>0.108911</td>\n",
       "      <td>0.182796</td>\n",
       "      <td>305</td>\n",
       "      <td>101</td>\n",
       "      <td>93</td>\n",
       "      <td>38</td>\n",
       "      <td>11</td>\n",
       "      <td>17</td>\n",
       "      <td>499</td>\n",
       "      <td>66</td>\n",
       "      <td>0.132265</td>\n",
       "      <td>93</td>\n",
       "      <td>0.186373</td>\n",
       "      <td>0.050531</td>\n",
       "      <td>25.215054</td>\n",
       "    </tr>\n",
       "    <tr>\n",
       "      <th>1</th>\n",
       "      <td>1</td>\n",
       "      <td>0.095023</td>\n",
       "      <td>0.105023</td>\n",
       "      <td>0.154930</td>\n",
       "      <td>663</td>\n",
       "      <td>219</td>\n",
       "      <td>213</td>\n",
       "      <td>63</td>\n",
       "      <td>23</td>\n",
       "      <td>33</td>\n",
       "      <td>1095</td>\n",
       "      <td>119</td>\n",
       "      <td>0.108676</td>\n",
       "      <td>213</td>\n",
       "      <td>0.194521</td>\n",
       "      <td>0.046254</td>\n",
       "      <td>50.647887</td>\n",
       "    </tr>\n",
       "    <tr>\n",
       "      <th>2</th>\n",
       "      <td>2</td>\n",
       "      <td>0.087284</td>\n",
       "      <td>0.108108</td>\n",
       "      <td>0.138514</td>\n",
       "      <td>928</td>\n",
       "      <td>296</td>\n",
       "      <td>296</td>\n",
       "      <td>81</td>\n",
       "      <td>32</td>\n",
       "      <td>41</td>\n",
       "      <td>1520</td>\n",
       "      <td>154</td>\n",
       "      <td>0.101316</td>\n",
       "      <td>296</td>\n",
       "      <td>0.194737</td>\n",
       "      <td>0.037198</td>\n",
       "      <td>56.540541</td>\n",
       "    </tr>\n",
       "    <tr>\n",
       "      <th>3</th>\n",
       "      <td>3</td>\n",
       "      <td>0.087322</td>\n",
       "      <td>0.107692</td>\n",
       "      <td>0.133690</td>\n",
       "      <td>1191</td>\n",
       "      <td>390</td>\n",
       "      <td>374</td>\n",
       "      <td>104</td>\n",
       "      <td>42</td>\n",
       "      <td>50</td>\n",
       "      <td>1955</td>\n",
       "      <td>196</td>\n",
       "      <td>0.100256</td>\n",
       "      <td>374</td>\n",
       "      <td>0.191304</td>\n",
       "      <td>0.033434</td>\n",
       "      <td>65.363636</td>\n",
       "    </tr>\n",
       "    <tr>\n",
       "      <th>4</th>\n",
       "      <td>4</td>\n",
       "      <td>0.092566</td>\n",
       "      <td>0.111359</td>\n",
       "      <td>0.134434</td>\n",
       "      <td>1372</td>\n",
       "      <td>449</td>\n",
       "      <td>424</td>\n",
       "      <td>127</td>\n",
       "      <td>50</td>\n",
       "      <td>57</td>\n",
       "      <td>2245</td>\n",
       "      <td>234</td>\n",
       "      <td>0.104232</td>\n",
       "      <td>424</td>\n",
       "      <td>0.188864</td>\n",
       "      <td>0.030202</td>\n",
       "      <td>67.804245</td>\n",
       "    </tr>\n",
       "  </tbody>\n",
       "</table>\n",
       "</div>"
      ],
      "text/plain": [
       "   t    rate_0    rate_1    rate_2  impressions_0  impressions_1  \\\n",
       "0  0  0.124590  0.108911  0.182796            305            101   \n",
       "1  1  0.095023  0.105023  0.154930            663            219   \n",
       "2  2  0.087284  0.108108  0.138514            928            296   \n",
       "3  3  0.087322  0.107692  0.133690           1191            390   \n",
       "4  4  0.092566  0.111359  0.134434           1372            449   \n",
       "\n",
       "   impressions_2  actions_0  actions_1  actions_2  total_impressions  \\\n",
       "0             93         38         11         17                499   \n",
       "1            213         63         23         33               1095   \n",
       "2            296         81         32         41               1520   \n",
       "3            374        104         42         50               1955   \n",
       "4            424        127         50         57               2245   \n",
       "\n",
       "   total_actions  total_rate  opt_impressions  opt_impressions_rate  \\\n",
       "0             66    0.132265               93              0.186373   \n",
       "1            119    0.108676              213              0.194521   \n",
       "2            154    0.101316              296              0.194737   \n",
       "3            196    0.100256              374              0.191304   \n",
       "4            234    0.104232              424              0.188864   \n",
       "\n",
       "   regret_rate     regret  \n",
       "0     0.050531  25.215054  \n",
       "1     0.046254  50.647887  \n",
       "2     0.037198  56.540541  \n",
       "3     0.033434  65.363636  \n",
       "4     0.030202  67.804245  "
      ]
     },
     "execution_count": 357,
     "metadata": {},
     "output_type": "execute_result"
    }
   ],
   "source": [
    "env.show_df().head()"
   ]
  },
  {
   "cell_type": "code",
   "execution_count": 716,
   "metadata": {},
   "outputs": [
    {
     "data": {
      "text/plain": [
       "(array([0.33333333, 0.33333333, 0.33333333]),\n",
       " array([0.89832148, 0.01201857, 0.08965995]),\n",
       " array([0.00333333, 0.00333333, 0.99333333]),\n",
       " array([6.01771419e-13, 1.10757725e-05, 9.99988924e-01]),\n",
       " array([0., 0., 1.]),\n",
       " array([0., 0., 1.]),\n",
       " array([0., 0., 1.]))"
      ]
     },
     "execution_count": 716,
     "metadata": {},
     "output_type": "execute_result"
    }
   ],
   "source": [
    "class BanditAgent:\n",
    "    def __init__(self):\n",
    "        pass\n",
    "    \n",
    "    #baselines\n",
    "    def equal_weights(self,state):\n",
    "        res = np.array([1/len(state) for i in range(len(state))])\n",
    "        return res\n",
    "    def randomize(self,state):\n",
    "        res = np.random.rand(len(state))\n",
    "        res /= res.sum()\n",
    "        return res\n",
    "    \n",
    "    #stochastic policies\n",
    "    def eps_greedy(self, state, t, start_eps=0.3, end_eps=0.01, gamma=0.99):\n",
    "        eps = max(end_eps,start_eps * gamma**t)\n",
    "        res = np.array([eps/len(state) for i in range(len(state))])\n",
    "        best_idx = np.argmax([i[1]/i[0] for i in state]) if t > 0 else np.random.choice(range(len(state)))\n",
    "        res[best_idx] += 1-eps\n",
    "        return res\n",
    "    def softmax(self, state, t, start_tau=1e-1, end_tau=1e-4, gamma=0.9):\n",
    "        tau = max(end_tau,start_tau*gamma**t)\n",
    "        sum_exp = sum([np.exp(i[1]/(i[0]+1e6)/tau) for i in state])\n",
    "        res = np.array([np.exp(i[1]/(i[0]+1e6)/tau) / sum_exp for i in state])\n",
    "        return res\n",
    "    \n",
    "    #deterministic policies\n",
    "    def ucb(self, state, t):\n",
    "        res = [(i[1]/i[0] + np.sqrt(2*np.log(t+1)/i[0])) for i in state]\n",
    "        res = np.array(res)\n",
    "        res_d = np.zeros(len(state))\n",
    "        res_d[np.argmax(res)] = 1\n",
    "        return res_d\n",
    "    def thompson_deterministic(self, state):\n",
    "        res = [np.random.beta(i[1]+1,i[0]-i[1]+1) for i in state]\n",
    "        res = np.array(res)\n",
    "        res_d = np.zeros(len(state))\n",
    "        res_d[np.argmax(res)] = 1\n",
    "        return res_d\n",
    "    \n",
    "    #thompsons\n",
    "    def thompson_one(self,state):\n",
    "        res = [np.random.beta(i[1]+1,i[0]-i[1]+1) for i in state]\n",
    "        res = np.array(res)\n",
    "        return res\n",
    "    def thompson_stochastic(self,state,n=1000):\n",
    "        l = []\n",
    "        for i in range(n): l.append(self.thompson_one(state)[None,:])\n",
    "        l = np.concatenate(l,0)\n",
    "        is_max = l.max(1)[:,None] == l\n",
    "        return is_max.mean(0)\n",
    "    \n",
    "env = MusketeerEnv(true_ps = [0.1,0.11,0.12], avg_impressions=500)\n",
    "a = BanditAgent()\n",
    "for i in range(1000):\n",
    "    p = a.equal_weights(env.get_state())\n",
    "    env.step(p)\n",
    "    t=i\n",
    "a.equal_weights(env.get_state()), a.randomize(env.get_state()), a.eps_greedy(env.get_state(),t),\\\n",
    "a.softmax(env.get_state(),t), a.thompson_stochastic(env.get_state()), \\\n",
    "a.ucb(env.get_state(),t), a.thompson_deterministic(env.get_state())"
   ]
  },
  {
   "cell_type": "code",
   "execution_count": 712,
   "metadata": {},
   "outputs": [],
   "source": [
    "env = MusketeerEnv(true_ps = [0.12,0.13,0.14], avg_impressions=400)\n",
    "a = BanditAgent()\n",
    "for t in range(200):\n",
    "    state = env.get_state()\n",
    "    action = a.thompson_stochastic(state)\n",
    "    env.step(action)\n",
    "df = env.show_df()"
   ]
  },
  {
   "cell_type": "code",
   "execution_count": 714,
   "metadata": {},
   "outputs": [
    {
     "data": {
      "text/plain": [
       "[<matplotlib.lines.Line2D at 0x1393721d0>]"
      ]
     },
     "execution_count": 714,
     "metadata": {},
     "output_type": "execute_result"
    },
    {
     "data": {
      "image/png": "[encoded data removed]",
      "text/plain": [
       "<Figure size 432x288 with 1 Axes>"
      ]
     },
     "metadata": {
      "needs_background": "light"
     },
     "output_type": "display_data"
    }
   ],
   "source": [
    "plt.plot(df.opt_impressions_rate)"
   ]
  },
  {
   "cell_type": "code",
   "execution_count": 715,
   "metadata": {},
   "outputs": [
    {
     "data": {
      "text/plain": [
       "[<matplotlib.lines.Line2D at 0x1393d14a8>]"
      ]
     },
     "execution_count": 715,
     "metadata": {},
     "output_type": "execute_result"
    },
    {
     "data": {
      "image/png": "[encoded data removed]",
      "text/plain": [
       "<Figure size 432x288 with 1 Axes>"
      ]
     },
     "metadata": {
      "needs_background": "light"
     },
     "output_type": "display_data"
    }
   ],
   "source": [
    "plt.plot(df.regret)"
   ]
  },
  {
   "cell_type": "code",
   "execution_count": null,
   "metadata": {},
   "outputs": [],
   "source": []
  }
 ],
 "metadata": {
  "kernelspec": {
   "display_name": "Python 3",
   "language": "python",
   "name": "python3"
  },
  "language_info": {
   "codemirror_mode": {
    "name": "ipython",
    "version": 3
   },
   "file_extension": ".py",
   "mimetype": "text/x-python",
   "name": "python",
   "nbconvert_exporter": "python",
   "pygments_lexer": "ipython3",
   "version": "3.7.3"
  }
 },
 "nbformat": 4,
 "nbformat_minor": 2
}
